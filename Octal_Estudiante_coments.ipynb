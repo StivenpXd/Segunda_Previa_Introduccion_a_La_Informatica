{
  "nbformat": 4,
  "nbformat_minor": 0,
  "metadata": {
    "colab": {
      "name": "Octal Estudiante.ipynb",
      "provenance": [],
      "collapsed_sections": []
    },
    "kernelspec": {
      "name": "python3",
      "display_name": "Python 3"
    },
    "language_info": {
      "name": "python"
    }
  },
  "cells": [
    {
      "cell_type": "code",
      "metadata": {
        "id": "CfUV6Hm8hQR5"
      },
      "source": [
        "# 1. Crear La Clase Octal:\n",
        "\n",
        "class Octal:\n",
        "  pass\n",
        "\n",
        "o = Octal()"
      ],
      "execution_count": null,
      "outputs": []
    },
    {
      "cell_type": "code",
      "metadata": {
        "colab": {
          "base_uri": "https://localhost:8080/"
        },
        "id": "zMTqJDkDiATn",
        "outputId": "69633a5e-fff0-4041-b1c4-43c156852c88"
      },
      "source": [
        "# 2. Crear un Constructor con un mensaje:\n",
        "\n",
        "class Octal:\n",
        "  def __init__(self):\n",
        "    print(\"Este es el Constructor\")     # Este es nuestro constructor en la funcion. \n",
        "    print(\"Numero Octal:\")              # Lo tomamos como el inicio y un pequeño titulo e introduccion de la clase.\n",
        "                                        # Por el momento solo sera una referencia.      \n",
        "o = Octal()"
      ],
      "execution_count": null,
      "outputs": [
        {
          "output_type": "stream",
          "name": "stdout",
          "text": [
            "Este es el Constructor\n",
            "Numero Octal:\n"
          ]
        }
      ]
    },
    {
      "cell_type": "code",
      "metadata": {
        "colab": {
          "base_uri": "https://localhost:8080/"
        },
        "id": "y3rX_n7mi0qZ",
        "outputId": "26706464-3aaf-4c7e-8649-7c9a5f655e81"
      },
      "source": [
        "# 3. Modificar el contructor para que reciba el numero octal:\n",
        "\n",
        "class Octal:\n",
        "  def __init__(self, dato):            # gendamos una nueva variable.\n",
        "    self.dato = dato                   # Esta es la que guardara la cadena que nosotros le daremos al numero octal.\n",
        "                                       # Cabe recordar que este sistemna numerico esta compuesto de: 0, 1, 2, 3, 4, 5, 6, 7.\n",
        "o = Octal(\"37401\")                     # Esta es la cadena que hemos agendado para dicho numero.\n",
        "print(o.dato)"
      ],
      "execution_count": null,
      "outputs": [
        {
          "output_type": "stream",
          "name": "stdout",
          "text": [
            "37401\n"
          ]
        }
      ]
    },
    {
      "cell_type": "code",
      "metadata": {
        "colab": {
          "base_uri": "https://localhost:8080/"
        },
        "id": "eKrL9XT6jWw_",
        "outputId": "87eb2a27-616f-48cb-ac52-beb83009e04f"
      },
      "source": [
        "# 4. Crear un metodo (funcion) para mostrar el contenido del objeto:\n",
        "\n",
        "class Octal:\n",
        "  def __init__(self, dato):\n",
        "    self.dato = dato\n",
        "  def string(self):                    # Utilizamos esta nueva funcion para representar el objeto que hemos guardado en la cadena.                                      \n",
        "    print(self.dato)                   # Aqui imprimimos lo que contiene esta funcion.\n",
        "                                       # Principalmente lo hacemos para mantener un mejor esquema en njestro codigo.\n",
        "o = Octal(\"37401\")\n",
        "o.string()"
      ],
      "execution_count": null,
      "outputs": [
        {
          "output_type": "stream",
          "name": "stdout",
          "text": [
            "37401\n"
          ]
        }
      ]
    },
    {
      "cell_type": "code",
      "metadata": {
        "colab": {
          "base_uri": "https://localhost:8080/"
        },
        "id": "7cnvsr0nktXE",
        "outputId": "4b7665d9-1e04-49f4-d7b5-023cf1684d46"
      },
      "source": [
        "# 5. Convertir la cadena que almacena el octal, en una lista:\n",
        "\n",
        "class Octal:\n",
        "  lista_octal = []                      # Creamos una variable a la cual le otorgamos el contenido de una lista vacia. \n",
        "\n",
        "  def __init__ (self, cadena_Octal):\n",
        "    self.cadena_Octal = cadena_Octal\n",
        "    self.lista_octal = list(self.cadena_Octal)    # LLegados a este punto convertimos la cadena que lleva el objeto en una lista.\n",
        "  def string(self):                               # Esto nos ayudara de mejor manera para saber cual es la posicion de cada valor.\n",
        "    print(self.cadena_Octal)                      # Aunque; aun no hemos resuelto todavia este problema.\n",
        "    print(self.lista_Octal)                       # Aqui se muestra en pantalla la cadena en forma de lista.\n",
        "\n",
        "o = Octal(\"37401\")\n",
        "o.string()"
      ],
      "execution_count": null,
      "outputs": [
        {
          "output_type": "stream",
          "name": "stdout",
          "text": [
            "37401\n",
            "['3', '7', '4', '0', '1']\n"
          ]
        }
      ]
    },
    {
      "cell_type": "code",
      "metadata": {
        "colab": {
          "base_uri": "https://localhost:8080/"
        },
        "id": "ug4jETTwrbwZ",
        "outputId": "80992527-7afc-4185-a693-cb6f4f1d5a05"
      },
      "source": [
        "# 6. Convertir la lista de strings en una lista de enteros:\n",
        "\n",
        "class Octal:\n",
        "  lista_octal = []\n",
        "\n",
        "  def __init__ (self, cadena_octal):\n",
        "    self.cadena_octal = cadena_octal\n",
        "    self.lista_octal = list(self.cadena_octal)\n",
        "\n",
        "    i = 0                                     # Realizamos un contador que inicalizaremos en cero.\n",
        "    for dato in self.lista_octal:             # Este sera el que llevara la posicion y cantidad de cada un valor que hay en la lista\n",
        "      self.lista_octal[i] = int(dato)         # Definimos la lista de string en dicho contador como un entero.\n",
        "      i = i + 1                               # Y cada vez que vaya avanazando su valor aumentara en 1\n",
        "\n",
        "  def string(self):\n",
        "    print(self.cadena_octal)\n",
        "    print(self.lista_octal)\n",
        "  \n",
        "o = Octal(\"37401\")\n",
        "o.string()"
      ],
      "execution_count": null,
      "outputs": [
        {
          "output_type": "stream",
          "name": "stdout",
          "text": [
            "37401\n",
            "[3, 7, 4, 0, 1]\n"
          ]
        }
      ]
    },
    {
      "cell_type": "code",
      "metadata": {
        "colab": {
          "base_uri": "https://localhost:8080/"
        },
        "id": "eCIXR4wbs4Qw",
        "outputId": "a515e88a-74d3-4a4b-96e2-46dca5fbeb7c"
      },
      "source": [
        "# 7. Invertir la lista para que coincida con los octales en matematicas:\n",
        "\n",
        "class Octal:\n",
        "  lista_octal = []\n",
        "\n",
        "  def __init__ (self, cadena_octal):\n",
        "    self.cadena_octal = cadena_octal\n",
        "    self.lista_octal = list(self.cadena_octal)\n",
        "\n",
        "    i = 0\n",
        "    for dato in self.lista_octal:\n",
        "      self.lista_octal[i] = int(dato)   \n",
        "      i = i + 1\n",
        "                                                           #Como lo mencione antes, aun no podiamos dar por finiquitado el problema;\n",
        "                                                           # Sabemos que en una lista la posicion inica desde el cero de izquierda a derecha \n",
        "    self.lista_octal = list(reversed(self.lista_octal))    # Por esa razon debemos ionvertir la lista para poder operar en el sitema numerico de octales\n",
        "\n",
        "  def string(self):\n",
        "    print(self.cadena_octal)\n",
        "    print(self.lista_octal)\n",
        "\n",
        "o = Octal(\"37401\")\n",
        "o.string()\n"
      ],
      "execution_count": 3,
      "outputs": [
        {
          "output_type": "stream",
          "name": "stdout",
          "text": [
            "37401\n",
            "[1, 0, 4, 7, 3]\n"
          ]
        }
      ]
    },
    {
      "cell_type": "code",
      "metadata": {
        "colab": {
          "base_uri": "https://localhost:8080/"
        },
        "id": "xoRX4FiVup2G",
        "outputId": "f7ddea2b-1960-4c11-c672-f851e237fbf4"
      },
      "source": [
        "#  8. Crear una función para encontrar el valor decimal del octal\n",
        "\n",
        "class Octal:\n",
        "  base = 8\n",
        "  lista_octal = []\n",
        "\n",
        "  def __init__ ( self, cadena_octal ):\n",
        "    self.cadena_octal = cadena_octal\n",
        "    self.lista_octal = list( self.cadena_octal )\n",
        "\n",
        "    i = 0\n",
        "    for dato in self.lista_octal:\n",
        "      self.lista_octal[i] = int(dato)\n",
        "      i = i + 1\n",
        "\n",
        "    self.lista_octal = list(reversed(self.lista_octal))\n",
        "  \n",
        "                                 \n",
        "                                                                                                             \n",
        "  def decimal(self):                                                                                  \n",
        "    numero_decimal = 0                                        # Creamos una nueva funcion que nnos permitira calcular el valor de la lista en decimal.                           \n",
        "    i = 0                                                     # Creamos una nueva variable que se iguala a cero.  \n",
        "    for dato in self.lista_octal:                             # Recordemos que para convertir un numero del sitema octal al sitema decimal\n",
        "      numero_decimal += self.base**i * self.lista_octal[i]    # debemos  multiplicar su base (8) por la posicion en al que este se encuentra y luego sumar slos datos\n",
        "      i = i + 1                                               # es por dicha razon que invertimos la lista, de lo contario las posicones afctarian al resultado \n",
        "    return numero_decimal                                     # Retornamos la variable que se haboia creado, ahora guarda el valor de la lista\n",
        "                                                              # En valor decimal\n",
        "  def string(self):\n",
        "   print(self.cadena_octal)\n",
        "   print(self.lista_octal)\n",
        "\n",
        "o = Octal(\"37401\")                                 # Finalmnte mostramos en pantalla el resultado y es de esta manera como  \n",
        "o.string()                                         # damos por terminado este ejercicio de la clase octal.\n",
        "print(o.decimal())                                           \n"
      ],
      "execution_count": 4,
      "outputs": [
        {
          "output_type": "stream",
          "name": "stdout",
          "text": [
            "37401\n",
            "[1, 0, 4, 7, 3]\n",
            "16129\n"
          ]
        }
      ]
    }
  ]
}