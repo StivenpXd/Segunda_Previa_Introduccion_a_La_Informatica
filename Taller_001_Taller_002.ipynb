{
  "nbformat": 4,
  "nbformat_minor": 0,
  "metadata": {
    "colab": {
      "name": "Taller_001 Taller_002.ipynb",
      "provenance": [],
      "collapsed_sections": []
    },
    "kernelspec": {
      "name": "python3",
      "display_name": "Python 3"
    },
    "language_info": {
      "name": "python"
    }
  },
  "cells": [
    {
      "cell_type": "code",
      "metadata": {
        "colab": {
          "base_uri": "https://localhost:8080/"
        },
        "id": "uxpOwzhxyB30",
        "outputId": "4c5bf292-935e-4812-e686-e34f05d81f81"
      },
      "source": [
        "#Taller 001\n",
        "class Binario:\n",
        "  base = 2\n",
        "  lista_binario = []\n",
        "\n",
        "  def __init__ ( self, cadena_binario ):\n",
        "    self.cadena_binario = cadena_binario\n",
        "    self.lista_binario = list( self.cadena_binario )\n",
        "\n",
        "    i = 0\n",
        "    for dato in self.lista_binario:\n",
        "      self.lista_binario[i] = int(dato)\n",
        "      i = i + 1\n",
        "\n",
        "    self.lista_binario = list(reversed(self.lista_binario))\n",
        "  \n",
        "                                 \n",
        "                                                                                                             \n",
        "  def decimal(self):                                                                                  \n",
        "    numero_decimal = 0                                                                 \n",
        "    i = 0                                                     \n",
        "    for dato in self.lista_binario:                             \n",
        "      numero_decimal += self.base**i * self.lista_binario[i]    \n",
        "      i = i + 1                                               \n",
        "    return numero_decimal                                     \n",
        "                                                              \n",
        "  def string(self):\n",
        "   print(self.cadena_binario)\n",
        "   print(self.lista_binario)\n",
        "\n",
        "# Ejercicio 1:\n",
        "b = Binario (\"11101\")                                  \n",
        "b.string()                                         \n",
        "print(b.decimal())\n",
        "\n",
        "# Ejercicio 3:\n",
        "b = Binario (\"11\")                                  \n",
        "b.string()                                         \n",
        "print(b.decimal())\n",
        "\n",
        "# Ejercicio 3:\n",
        "b = Binario (\"0101\")                                  \n",
        "b.string()                                         \n",
        "print(b.decimal())\n",
        "\n",
        "# Ejercicio 4:\n",
        "b = Binario (\"110011\")                                  \n",
        "b.string()                                         \n",
        "print(b.decimal())"
      ],
      "execution_count": 2,
      "outputs": [
        {
          "output_type": "stream",
          "name": "stdout",
          "text": [
            "11101\n",
            "[1, 0, 1, 1, 1]\n",
            "29\n",
            "11\n",
            "[1, 1]\n",
            "3\n",
            "0101\n",
            "[1, 0, 1, 0]\n",
            "5\n",
            "110011\n",
            "[1, 1, 0, 0, 1, 1]\n",
            "51\n"
          ]
        }
      ]
    },
    {
      "cell_type": "code",
      "metadata": {
        "id": "tf6zL3va1T4d"
      },
      "source": [
        ""
      ],
      "execution_count": null,
      "outputs": []
    },
    {
      "cell_type": "code",
      "metadata": {
        "colab": {
          "base_uri": "https://localhost:8080/"
        },
        "id": "eocg1I5Jq6lt",
        "outputId": "0013b1bb-8c43-4732-c2d7-9641eda4251c"
      },
      "source": [
        "#Taller 002\n",
        "def Binario_Decimal(binario):\n",
        "  posicion = 0\n",
        "  decimal = 0\n",
        "  # Invertir la cadena porque debemos recorrerla de derecha a izquierda \n",
        "  binario = binario[:: -1]\n",
        "  for digito in binario:\n",
        "    #Elevar 2 a la posicion actual\n",
        "    multiplicador = 2**posicion\n",
        "    decimal += int(digito)*multiplicador\n",
        "    posicion += 1\n",
        "  return decimal\n",
        "\n",
        "#Probamos la operacion\n",
        "binario = input(\"Ingrese un numero binario: \")\n",
        "decimal = Binario_Decimal(binario)\n",
        "print(decimal)\n"
      ],
      "execution_count": null,
      "outputs": [
        {
          "output_type": "stream",
          "name": "stdout",
          "text": [
            "Ingrese un numero binario: 11101\n",
            "29\n"
          ]
        }
      ]
    }
  ]
}