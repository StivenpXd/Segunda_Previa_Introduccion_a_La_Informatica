{
  "nbformat": 4,
  "nbformat_minor": 0,
  "metadata": {
    "colab": {
      "name": "Taller_Clases _Representacion.ipynb",
      "provenance": [],
      "collapsed_sections": []
    },
    "kernelspec": {
      "name": "python3",
      "display_name": "Python 3"
    },
    "language_info": {
      "name": "python"
    }
  },
  "cells": [
    {
      "cell_type": "code",
      "metadata": {
        "id": "_wJlppxyc_gU"
      },
      "source": [
        "# Taller Clases Objetos \n",
        "\n",
        "# 1. Creamos la Clase Gato:\n",
        "# Esta es la manera y la forma de como crear una clase \n",
        "class Gato:\n",
        "  pass \n",
        "\n",
        "g = Gato()"
      ],
      "execution_count": null,
      "outputs": []
    },
    {
      "cell_type": "code",
      "metadata": {
        "id": "4rI-1wQOduqZ",
        "colab": {
          "base_uri": "https://localhost:8080/"
        },
        "outputId": "df2e087d-ffa2-47ca-fa5d-c5ef3814f0eb"
      },
      "source": [
        "# A esta clase podremos darles diferentes caracteristicas:\n",
        "# Se define la clase y la representamos\n",
        "# Por el momento solo vamos a mostar un poco de sus caracteristicas, en el punto dos profundisaremos de mejor manera dicha representacion. \n",
        "\n",
        "class Gato:\n",
        "  def __init__(self, nombre, raza, color):  \n",
        "    self.nombre = nombre \n",
        "    self.raza = raza\n",
        "    self.color = color \n",
        "  def get_nombre(self):\n",
        "    print(self.nombre)\n",
        "  def get_raza(self):\n",
        "    print(self.raza)\n",
        "  def get_color(self):\n",
        "    print(self.color)\n",
        "\n",
        "g = Gato(\"Darky\", \"Bicolor Britanico\", \"Blanco Con Negro\" )\n",
        "g.get_nombre()\n",
        "g.get_raza()\n",
        "g.get_color()"
      ],
      "execution_count": null,
      "outputs": [
        {
          "output_type": "stream",
          "name": "stdout",
          "text": [
            "Darky\n",
            "Bicolor Britanico\n",
            "Blanco Con Negro\n"
          ]
        }
      ]
    },
    {
      "cell_type": "code",
      "metadata": {
        "colab": {
          "base_uri": "https://localhost:8080/"
        },
        "id": "qR1iX-iohGDz",
        "outputId": "6fd0a2b8-b2c5-4d4f-c66e-07de586e885c"
      },
      "source": [
        "# 2. Creasion y Representacion de la Clase Moto:\n",
        "\n",
        "class Moto:\n",
        "  numero_ruedas = 2           #Esta variable pertenece a todos los objetos \n",
        "  def __init__(self, marca, color, motor, cilindraje, año_elaboracion):         #Aportamos diferentes caracteristicas que representan la clase.\n",
        "    self.marca = marca                   #  Se carga cada dato en una variable que va a sobrellevar dicho argumento                                      \n",
        "    self.color = color                   #  ^\n",
        "    self.motor = motor                   #  | \n",
        "    self.año = año_elaboracion           #  | \n",
        "    self.cilindraje = cilindraje         #  |\n",
        "  def get_marca (self):\n",
        "    print(\"La marca de la moto es: \", self.marca)                               #Obtenemos su marca\n",
        "  def get_color (self):\n",
        "    print(\"El color que tiene la Moto es: \", self.color)                        #Obtenemos su color\n",
        "  def get_motor (self):\n",
        "    print(\"El motor que trae la Moto es: \", self.motor)                         #Obtenemos su  motor\n",
        "  def get_cilindraje (self):\n",
        "    print(\"El cilindraje que guarda la moto es igual: \", self.cilindraje)       #Obtenemos su cilindraje\n",
        "  def get_elaboracion (self):\n",
        "    print(\"El caño del que la moto fue elaborada: \", self.año)                  #Obtenemos su año de elaboracion y produccion\n",
        "\n",
        "m = Moto(\"Honda cb 110\", \"Rojo\", \" Un motor libiano de 4 tiempos y refrigerdo\", \"109 cc\", \"En el 2013\")   #Caracteristicas con las que vamos a representar la clase Moto\n",
        "m.get_marca()                    #\n",
        "m.get_color()                    #   \n",
        "m.get_motor()                    #\n",
        "m.get_cilindraje()               #\n",
        "m.get_elaboracion()              #\n",
        "\n",
        "print(\"El numero de ruedas que tiene la moto es:\", m.numero_ruedas)\n"
      ],
      "execution_count": null,
      "outputs": [
        {
          "output_type": "stream",
          "name": "stdout",
          "text": [
            "La marca de la moto es:  Honda cb 110\n",
            "El color que tiene la Moto es:  Rojo\n",
            "El motor que trae la Moto es:   Un motor libiano de 4 tiempos y refrigerdo\n",
            "El cilindraje que guarda la moto es igual:  109 cc\n",
            "El caño del que la moto fue elaborada:  En el 2013\n",
            "El numero de ruedas que tiene la moto es: 2\n"
          ]
        }
      ]
    },
    {
      "cell_type": "markdown",
      "metadata": {
        "id": "atoN5gdVGn0E"
      },
      "source": [
        "##Nota: \n",
        "- Envio los puntos profpuestos en el taller de clases y objetos, aun me falta por terminar de crear el github el martes 23 de noviembre que tengo clase con usted resuelvo unas dudas para entregar de mejor forma en el paper y el github.\n",
        "\n",
        "Muchas gracias por su atencion profe, tenga una buena tarde."
      ]
    }
  ]
}